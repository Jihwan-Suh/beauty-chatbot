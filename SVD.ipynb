{
 "cells": [
  {
   "cell_type": "code",
   "execution_count": 3,
   "metadata": {},
   "outputs": [
    {
     "name": "stdout",
     "output_type": "stream",
     "text": [
      "Data Set Loaded\n",
      "RMSE: 0.9929\n",
      "0.9928593616218063\n",
      "RMSE: 1.0162\n",
      "1.0162045306327625\n",
      "RMSE: 1.0097\n",
      "1.0097166661417867\n",
      "RMSE: 1.0181\n",
      "1.0180511959516034\n",
      "RMSE: 0.9821\n",
      "0.9820504121500921\n",
      "model saved!\n"
     ]
    }
   ],
   "source": [
    "import numpy as np # linear algebra\n",
    "import pandas as pd # data processing, CSV file I/O (e.g. pd.read_csv)\n",
    "import surprise\n",
    "from surprise import accuracy\n",
    "from surprise.model_selection import KFold\n",
    "import pickle\n",
    "\n",
    "df=pd.read_csv(\"random.csv\")#엑셀로 만든 데이터 \n",
    "print(\"Data Set Loaded\")\n",
    "\n",
    "algo = surprise.SVD()\n",
    "reader = surprise.Reader(rating_scale=(1,5))\n",
    "data = surprise.Dataset.load_from_df(df[['user_id', 'product_id', 'rating']].dropna(), reader)\n",
    "#trainset = data.build_full_trainset()\n",
    "#algo.train(trainset)\n",
    "#print(\"Done Training\")\n",
    "\n",
    "kf = KFold(n_splits=5)\n",
    "\n",
    "for trainset, testset in kf.split(data):\n",
    "\n",
    "    # train and test algorithm.\n",
    "    algo.fit(trainset)\n",
    "    predictions = algo.test(testset)\n",
    "\n",
    "    # Compute and print Root Mean Squared Error\n",
    "    print(accuracy.rmse(predictions, verbose=True))\n",
    "\n",
    "\n",
    "trainset=data.build_full_trainset()\n",
    "algo.fit(trainset)\n",
    "\n",
    "\n",
    "pickle.dump(algo, open(\"recomm.pkl\", \"wb\"))\n",
    "print(\"model saved!\")"
   ]
  }
 ],
 "metadata": {
  "kernelspec": {
   "display_name": "Python 3",
   "language": "python",
   "name": "python3"
  },
  "language_info": {
   "codemirror_mode": {
    "name": "ipython",
    "version": 3
   },
   "file_extension": ".py",
   "mimetype": "text/x-python",
   "name": "python",
   "nbconvert_exporter": "python",
   "pygments_lexer": "ipython3",
   "version": "3.6.1"
  }
 },
 "nbformat": 4,
 "nbformat_minor": 2
}
