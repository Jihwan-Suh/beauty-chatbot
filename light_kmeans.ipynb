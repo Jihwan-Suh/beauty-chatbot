{
 "cells": [
  {
   "cell_type": "code",
   "execution_count": null,
   "metadata": {},
   "outputs": [],
   "source": [
    "import pandas as pd\n",
    "import seaborn as sns\n",
    "import matplotlib.pyplot as plt\n",
    "import warnings\n",
    "warnings.filterwarnings('ignore')\n",
    "plt.rc('font', family='NanumGothic')#차트 레이블에 한글이 깨지는 현상방지"
   ]
  },
  {
   "cell_type": "code",
   "execution_count": null,
   "metadata": {},
   "outputs": [],
   "source": [
    "df=pd.read_csv('users.csv')"
   ]
  },
  {
   "cell_type": "code",
   "execution_count": null,
   "metadata": {},
   "outputs": [],
   "source": [
    "df.head()"
   ]
  },
  {
   "cell_type": "code",
   "execution_count": null,
   "metadata": {},
   "outputs": [],
   "source": [
    "data=df[['age','gender','skin_type']]"
   ]
  },
  {
   "cell_type": "code",
   "execution_count": null,
   "metadata": {},
   "outputs": [],
   "source": [
    "plt.subplots(figsize=(20,5))\n",
    "sns.distplot(data.age, hist=False, label='1', kde=True, rug=True)#나이 분포 차트를 그려줍니다"
   ]
  },
  {
   "cell_type": "code",
   "execution_count": null,
   "metadata": {},
   "outputs": [],
   "source": [
    "sns.countplot(data=data, x='gender', hue='gender') #성별 개수 확인"
   ]
  },
  {
   "cell_type": "code",
   "execution_count": null,
   "metadata": {},
   "outputs": [],
   "source": [
    "sns.countplot(data=data, x='skin_type', hue='skin_type')# 피부타입별 변수의 개수 확인"
   ]
  },
  {
   "cell_type": "code",
   "execution_count": null,
   "metadata": {},
   "outputs": [],
   "source": [
    "import plotly.graph_objs as go\n",
    "from plotly.offline import download_plotlyjs, init_notebook_mode, plot, iplot\n",
    "traceW = go.Box(x = data['age'].values,\n",
    "                name=\"Width\",\n",
    "                marker=dict(color='rgba(238,23,11,0.5)',\n",
    "                            line=dict(color='red', width=1.2)),\n",
    "                orientation='h') #plotly패키지를 이용해 상자그림을 그려서 나이 변수의 이상 값 확인 \n",
    "\n",
    "                \n",
    "box = [traceW]\n",
    "\n",
    "layout = dict(title = 'Width & Heights of images',\n",
    "              xaxis = dict(title = 'Size', showticklabels=True),\n",
    "              yaxis = dict(title = 'Image dimmension'),\n",
    "              hovermode = 'closest')\n",
    "\n",
    "fig = dict(data=box, layout=layout)\n",
    "\n",
    "plot(fig, filename='width-height.html') #width-height.html라는 파일로 차트 결과가 나옵니다."
   ]
  },
  {
   "cell_type": "code",
   "execution_count": null,
   "metadata": {},
   "outputs": [],
   "source": [
    "data=data.loc[(data['age']<36)&(data['age']>10)] #확인한 이상값을 제거해줍니다."
   ]
  },
  {
   "cell_type": "code",
   "execution_count": null,
   "metadata": {},
   "outputs": [],
   "source": [
    "plt.subplots(figsize=(20,5)) #이상 값들을 제거한 나이분포 그래프를 다시 그려봅니다.\n",
    "sns.distplot(data.age, hist=False, label='1', kde=True, rug=True) "
   ]
  },
  {
   "cell_type": "code",
   "execution_count": null,
   "metadata": {},
   "outputs": [],
   "source": [
    "from scipy.stats import skew #나이 분포의 왜도 확인 0에 가까울수록 좌우 대칭에 가깝습니다,\n",
    "skew(data['age'])"
   ]
  },
  {
   "cell_type": "code",
   "execution_count": null,
   "metadata": {},
   "outputs": [],
   "source": [
    "#범주형 변수들을 더미변수화 시켜줍니다.\n",
    "data = data.merge(pd.get_dummies(data.skin_type, prefix='skin_type'), left_index=True, right_index=True)\n",
    "data = data.merge(pd.get_dummies(data.gender, prefix='gender'), left_index=True, right_index=True)"
   ]
  },
  {
   "cell_type": "code",
   "execution_count": null,
   "metadata": {},
   "outputs": [],
   "source": [
    "#더미변수 만들때 사용한 원래 변수 제거\n",
    "del data['skin_type']\n",
    "del data['gender']"
   ]
  },
  {
   "cell_type": "code",
   "execution_count": null,
   "metadata": {},
   "outputs": [],
   "source": [
    "#변수 스케일 조정을 하게되면 columns값이 사라지므로 미리 확인해 봅니다.\n",
    "data.columns"
   ]
  },
  {
   "cell_type": "code",
   "execution_count": null,
   "metadata": {},
   "outputs": [],
   "source": [
    "#군집분석을 위해 standard scaler로 변수들의 스케일 조정\n",
    "from sklearn.preprocessing import StandardScaler\n",
    "df2 = StandardScaler().fit_transform(data)\n",
    "df2=pd.DataFrame(df2)"
   ]
  },
  {
   "cell_type": "code",
   "execution_count": null,
   "metadata": {},
   "outputs": [],
   "source": [
    "df2.columns=['age', 'skin_type_건성', 'skin_type_민감성', 'skin_type_복합성', 'skin_type_중성',\n",
    "       'skin_type_지성', 'gender_1', 'gender_2']"
   ]
  },
  {
   "cell_type": "code",
   "execution_count": null,
   "metadata": {},
   "outputs": [],
   "source": [
    "df2.head()"
   ]
  },
  {
   "cell_type": "markdown",
   "metadata": {},
   "source": [
    "군집의 수를 정하기 위해 실루엣 계수 사용\n",
    "실루엣 계수는 -1부터 1 사이의 값을 가지고 샘플의 실루엣 계수가 1이면 그 샘플은 속한 크러스터와 매우 유사하고 다른 클러스터와 다르다는것을 의미 \n",
    "군집화 전체를 평가하기위해 사용하는 실루엣 계수는 각 샘플의 실루엣 계수의 평균을 사용"
   ]
  },
  {
   "cell_type": "code",
   "execution_count": null,
   "metadata": {},
   "outputs": [],
   "source": [
    "from sklearn.cluster import KMeans #군집분석 방법은 kmeans 사용\n",
    "from sklearn import metrics\n",
    "from scipy.spatial.distance import cdist\n",
    "import numpy as np\n",
    "import matplotlib.pyplot as plt\n",
    "from sklearn.metrics import silhouette_samples, silhouette_score\n",
    "\n",
    "for n_clusters in range(2,10):\n",
    "\n",
    "    clusterer = KMeans(n_clusters=n_clusters, random_state=10)\n",
    "    cluster_labels = clusterer.fit_predict(df2)\n",
    "\n",
    "    silhouette_avg = silhouette_score(df2, cluster_labels)\n",
    "    print(\"For n_clusters =\", n_clusters,\n",
    "          \"The average silhouette_score is :\", silhouette_avg)\n"
   ]
  },
  {
   "cell_type": "markdown",
   "metadata": {},
   "source": [
    "엘보방식은 급내제곱합 이용 클러스터들의 급내제곱합의 총합이 적을수록 좋은 군집화 사이킷런의 kmeans.fit함수는 inertia_라는 이름으로 클러스터의 급내제곱합의 총합을 계산하므로 쉽게 구할수 있음"
   ]
  },
  {
   "cell_type": "code",
   "execution_count": null,
   "metadata": {},
   "outputs": [],
   "source": [
    "# 클러스터 수를 키로 하고 inertia를 값으로 하는 딕셔너리\n",
    "ssw_dic={}\n",
    "\n",
    "for k in range(1,10):\n",
    "    km = KMeans(n_clusters=k).fit(df2)\n",
    "    ssw_dic[k]= km.inertia_\n",
    "    \n",
    "plot_data_x=list(ssw_dic.keys())\n",
    "plot_data_y=list(ssw_dic.values())\n",
    "plt.xlabel('# of clusters')\n",
    "plt.ylabel('within ss')\n",
    "plt.plot(plot_data_x,plot_data_y,linestyle='-',marker='o')\n",
    "plt.title('The Elbow Method showing the optimal k')\n",
    "plt.show()"
   ]
  },
  {
   "cell_type": "markdown",
   "metadata": {},
   "source": [
    "군집의 수를 6개로 하겠습니다."
   ]
  },
  {
   "cell_type": "code",
   "execution_count": null,
   "metadata": {},
   "outputs": [],
   "source": [
    "kmeans = KMeans(n_clusters=6)\n",
    "predict=kmeans.fit(df2)"
   ]
  },
  {
   "cell_type": "code",
   "execution_count": null,
   "metadata": {},
   "outputs": [],
   "source": [
    "out=pd.DataFrame(kmeans.labels_)\n",
    "out.columns=['predict']\n",
    "data2=pd.concat([df2,out],1)"
   ]
  },
  {
   "cell_type": "code",
   "execution_count": null,
   "metadata": {},
   "outputs": [],
   "source": [
    "data2.head()"
   ]
  },
  {
   "cell_type": "code",
   "execution_count": null,
   "metadata": {},
   "outputs": [],
   "source": [
    "data2.nunique()"
   ]
  },
  {
   "cell_type": "code",
   "execution_count": null,
   "metadata": {},
   "outputs": [],
   "source": [
    "from mpl_toolkits.mplot3d import Axes3D\n",
    "# scatter plot\n",
    "fig = plt.figure( figsize=(6,6))\n",
    "ax = Axes3D(fig, rect=[0, 1, 1, 1], elev=48, azim=134)\n",
    "ax.scatter(data2['age'],data2['skin_type_민감성'],data2['gender_2'],c=data2['predict'],alpha=0.5)\n",
    "ax.set_xlabel('age')\n",
    "ax.set_ylabel('skin_type_민감성')\n",
    "ax.set_zlabel('gender_2')\n",
    "plt.show()"
   ]
  },
  {
   "cell_type": "code",
   "execution_count": null,
   "metadata": {},
   "outputs": [],
   "source": [
    "data2.isna().sum()"
   ]
  },
  {
   "cell_type": "code",
   "execution_count": null,
   "metadata": {},
   "outputs": [],
   "source": [
    "X = data2.iloc[:, data2.columns != 'predict']\n",
    "y = data2.iloc[:, data2.columns == 'predict']"
   ]
  },
  {
   "cell_type": "code",
   "execution_count": null,
   "metadata": {},
   "outputs": [],
   "source": [
    "from sklearn.model_selection import train_test_split"
   ]
  },
  {
   "cell_type": "code",
   "execution_count": null,
   "metadata": {},
   "outputs": [],
   "source": [
    "X_train, X_test, y_train, y_test = train_test_split(X,y,test_size = 0.3, random_state = 10)"
   ]
  },
  {
   "cell_type": "code",
   "execution_count": null,
   "metadata": {},
   "outputs": [],
   "source": [
    "from sklearn.ensemble import RandomForestClassifier, AdaBoostClassifier, GradientBoostingClassifier, ExtraTreesClassifier, VotingClassifier\n",
    "from sklearn.discriminant_analysis import LinearDiscriminantAnalysis\n",
    "from sklearn.linear_model import LogisticRegression\n",
    "from sklearn.neighbors import KNeighborsClassifier\n",
    "from sklearn.tree import DecisionTreeClassifier\n",
    "from sklearn.neural_network import MLPClassifier\n",
    "from sklearn.svm import SVC\n",
    "from sklearn.model_selection import GridSearchCV, cross_val_score, StratifiedKFold, learning_curve"
   ]
  },
  {
   "cell_type": "code",
   "execution_count": null,
   "metadata": {},
   "outputs": [],
   "source": [
    "kfold = StratifiedKFold(n_splits=10)"
   ]
  },
  {
   "cell_type": "code",
   "execution_count": null,
   "metadata": {},
   "outputs": [],
   "source": [
    "random_state = 2\n",
    "classifiers = []\n",
    "classifiers.append(SVC(random_state=random_state))\n",
    "classifiers.append(DecisionTreeClassifier(random_state=random_state))\n",
    "classifiers.append(AdaBoostClassifier(DecisionTreeClassifier(random_state=random_state),random_state=random_state,learning_rate=0.1))\n",
    "classifiers.append(RandomForestClassifier(random_state=random_state))\n",
    "classifiers.append(ExtraTreesClassifier(random_state=random_state))\n",
    "classifiers.append(GradientBoostingClassifier(random_state=random_state))\n",
    "classifiers.append(MLPClassifier(random_state=random_state))\n",
    "classifiers.append(KNeighborsClassifier())\n",
    "classifiers.append(LogisticRegression(random_state = random_state))\n",
    "classifiers.append(LinearDiscriminantAnalysis())\n",
    "\n",
    "cv_results = []\n",
    "for classifier in classifiers :\n",
    "    cv_results.append(cross_val_score(classifier, X_train, y = y_train, scoring = \"accuracy\", cv = kfold, n_jobs=4))\n",
    "\n",
    "cv_means = []\n",
    "cv_std = []\n",
    "for cv_result in cv_results:\n",
    "    cv_means.append(cv_result.mean())\n",
    "    cv_std.append(cv_result.std())\n",
    "\n",
    "cv_res = pd.DataFrame({\"CrossValMeans\":cv_means,\"CrossValerrors\": cv_std,\"Algorithm\":[\"SVC\",\"DecisionTree\",\"AdaBoost\",\n",
    "\"RandomForest\",\"ExtraTrees\",\"GradientBoosting\",\"MultipleLayerPerceptron\",\"KNeighboors\",\"LogisticRegression\",\"LinearDiscriminantAnalysis\"]})\n",
    "\n",
    "g = sns.barplot(\"CrossValMeans\",\"Algorithm\",data = cv_res, palette=\"Set3\",orient = \"h\",**{'xerr':cv_std})\n",
    "g.set_xlabel(\"Mean Accuracy\")\n",
    "g = g.set_title(\"Cross validation scores\")\n"
   ]
  },
  {
   "cell_type": "code",
   "execution_count": null,
   "metadata": {},
   "outputs": [],
   "source": [
    "gbc = GradientBoostingClassifier()\n",
    "gbc = gbc.fit(X_train, y_train)"
   ]
  },
  {
   "cell_type": "code",
   "execution_count": null,
   "metadata": {},
   "outputs": [],
   "source": [
    "gbc_scores = cross_val_score(gbc, X_train, y_train,cv=10)\n",
    "print('Scores =', gbc_scores)\n",
    "print('CV accuracy: %.3f +/- %.3f' % (np.mean(gbc_scores), np.std(gbc_scores)))"
   ]
  },
  {
   "cell_type": "code",
   "execution_count": null,
   "metadata": {},
   "outputs": [],
   "source": [
    "from sklearn.metrics import classification_report\n",
    "y_pred=gbc.predict(X_test)\n",
    "# classification matrix\n",
    "print('\\nClassification metrics')\n",
    "print(classification_report(y_true=y_test, y_pred=y_pred))"
   ]
  }
 ],
 "metadata": {
  "kernelspec": {
   "display_name": "Python 3",
   "language": "python",
   "name": "python3"
  },
  "language_info": {
   "codemirror_mode": {
    "name": "ipython",
    "version": 3
   },
   "file_extension": ".py",
   "mimetype": "text/x-python",
   "name": "python",
   "nbconvert_exporter": "python",
   "pygments_lexer": "ipython3",
   "version": "3.6.7"
  }
 },
 "nbformat": 4,
 "nbformat_minor": 2
}
